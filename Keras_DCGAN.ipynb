{
 "cells": [
  {
   "cell_type": "code",
   "execution_count": 1,
   "metadata": {},
   "outputs": [
    {
     "name": "stdout",
     "output_type": "stream",
     "text": [
      "INFO:tensorflow:Mixed precision compatibility check (mixed_float16): OK\n",
      "Your GPU will likely run quickly with dtype policy mixed_float16 as it has compute capability of at least 7.0. Your GPU: GeForce RTX 2070 SUPER, compute capability 7.5\n"
     ]
    }
   ],
   "source": [
    "import tensorflow as tf\n",
    "config = tf.compat.v1.ConfigProto()\n",
    "config.gpu_options.allow_growth = True\n",
    "session = tf.compat.v1.Session(config=config)\n",
    "\n",
    "#imports\n",
    "\n",
    "from tensorflow.keras.mixed_precision import experimental as mixed_precision\n",
    "policy = mixed_precision.Policy('mixed_float16')\n",
    "mixed_precision.set_policy(policy)\n",
    "\n",
    "import numpy as np\n",
    "import matplotlib.pyplot as plt\n",
    "import tensorflow as tf\n",
    "import cv2\n",
    "import glob\n",
    "import imageio\n",
    "import matplotlib.pyplot as plt\n",
    "import numpy as np\n",
    "import os\n",
    "import PIL\n",
    "import time\n",
    "from tensorflow.keras import layers\n",
    "from tensorflow.keras import activations\n",
    "from IPython import display\n",
    "from tensorflow.keras.initializers import RandomNormal\n",
    "from tensorflow.keras import initializers\n",
    "import datetime\n",
    "\n",
    "\n",
    "# import \n",
    "AUTOTUNE = tf.data.experimental.AUTOTUNE\n",
    "IMAGE_HEIGHT = 64\n",
    "IMAGE_WIDTH = 64\n",
    "IMAGE_DEPTH = 3\n",
    "BATCH_SIZE = 128\n",
    "NUM_SAMPLES = 202599"
   ]
  },
  {
   "cell_type": "code",
   "execution_count": 2,
   "metadata": {},
   "outputs": [],
   "source": [
    "def decode_img(img):\n",
    "    # convert the compressed string to a 3D uint8 tensor\n",
    "    img = tf.image.decode_jpeg(img, channels=IMAGE_DEPTH)\n",
    "    # Use `convert_image_dtype` to convert to floats in the [0,1] range.\n",
    "    img = tf.image.convert_image_dtype(img, tf.float32)\n",
    "    img = (img - .5) / .5\n",
    "    # resize the image to the desired size.\n",
    "    return tf.image.resize(img, [IMAGE_HEIGHT, IMAGE_WIDTH])\n",
    "\n",
    "def process_path(file_path):\n",
    "    img = tf.io.read_file(file_path)\n",
    "    img = decode_img(img)\n",
    "    return img\n",
    "\n",
    "\n",
    "\n",
    "def prepare_for_training(ds, cache=True, shuffle_buffer_size=1000):\n",
    "    # This is a small dataset, only load it once, and keep it in memory.\n",
    "    # use `.cache(filename)` to cache preprocessing work for datasets that don't\n",
    "    # fit in memory.\n",
    "    if cache:\n",
    "        if isinstance(cache, str):\n",
    "            ds = ds.cache(cache)\n",
    "    else:\n",
    "        ds = ds.cache()\n",
    "\n",
    "    ds = ds.shuffle(buffer_size=shuffle_buffer_size)\n",
    "\n",
    "    # Repeat forever\n",
    "#     ds = ds.repeat()\n",
    "\n",
    "    ds = ds.batch(BATCH_SIZE)\n",
    "\n",
    "    # `prefetch` lets the dataset fetch batches in the background while the model\n",
    "    # is training.\n",
    "    ds = ds.prefetch(buffer_size=AUTOTUNE)\n",
    "\n",
    "    return ds\n",
    "\n",
    "\n",
    "\n",
    "def data_generator():\n",
    "    \n",
    "    # DATA Preprocessing and Generator\n",
    "    data_dir = 'data/img_align_celeba/*.jpg'\n",
    "    list_ds = tf.data.Dataset.list_files(data_dir)\n",
    "\n",
    "    processed_images = list_ds.map(process_path, num_parallel_calls=AUTOTUNE)\n",
    "    return prepare_for_training(processed_images)\n",
    "    "
   ]
  },
  {
   "cell_type": "code",
   "execution_count": 3,
   "metadata": {
    "scrolled": true
   },
   "outputs": [],
   "source": [
    "data_gen = data_generator()\n",
    "\n"
   ]
  },
  {
   "cell_type": "code",
   "execution_count": 4,
   "metadata": {
    "scrolled": false
   },
   "outputs": [],
   "source": [
    "\n",
    "# for image_batch in data_gen:\n",
    "#     print(image_batch.shape)\n",
    "#     print(image_batch[0].shape)\n",
    "#     plt.imshow(image_batch[0])\n",
    "#     break\n",
    "\n",
    "# # plt.imshow(image)"
   ]
  },
  {
   "cell_type": "code",
   "execution_count": 5,
   "metadata": {},
   "outputs": [],
   "source": [
    "def make_generator_model():\n",
    "    initializer = tf.keras.initializers.RandomNormal(mean=0., stddev=.02)\n",
    "    model = tf.keras.Sequential()\n",
    "    model.add(layers.Dense(4*4*1024, use_bias=False, input_shape=(100,), kernel_initializer=initializer))\n",
    "    model.add(layers.ReLU())\n",
    "    model.add(layers.BatchNormalization(scale=False))\n",
    "\n",
    "    model.add(layers.Reshape((4, 4, 1024)))\n",
    "    assert model.output_shape == (None, 4, 4, 1024) # Note: None is the batch size\n",
    "\n",
    "    model.add(layers.Conv2DTranspose(512, (5, 5), strides=(2, 2), padding='same', use_bias=False, kernel_initializer=initializer))\n",
    "    assert model.output_shape == (None, 8, 8, 512)\n",
    "    model.add(layers.ReLU())\n",
    "    model.add(layers.BatchNormalization(scale=False))\n",
    "\n",
    "    model.add(layers.Conv2DTranspose(256, (5, 5), strides=(2, 2), padding='same', use_bias=False, kernel_initializer=initializer))\n",
    "    assert model.output_shape == (None, 16, 16, 256)\n",
    "    model.add(layers.ReLU())\n",
    "    model.add(layers.BatchNormalization(scale=False))\n",
    "    \n",
    "    model.add(layers.Conv2DTranspose(128, (5, 5), strides=(2, 2), padding='same', use_bias=False, kernel_initializer=initializer))\n",
    "    assert model.output_shape == (None, 32, 32, 128)\n",
    "    model.add(layers.ReLU())\n",
    "    model.add(layers.BatchNormalization(scale=False))\n",
    "\n",
    "    model.add(layers.Conv2DTranspose(3, (5, 5), strides=(2, 2), padding='same', use_bias=False, activation='tanh', kernel_initializer=initializer))\n",
    "    assert model.output_shape == (None, 64, 64, 3)\n",
    "    model.add(layers.Activation('linear', dtype='float32'))\n",
    "    \n",
    "\n",
    "    return model\n",
    "\n",
    "def make_generator_model_128():\n",
    "    initializer = tf.keras.initializers.RandomNormal(mean=0., stddev=.02)\n",
    "    model = tf.keras.Sequential()\n",
    "    model.add(layers.Dense(8*8*1024, use_bias=False, input_shape=(100,), kernel_initializer=initializer))\n",
    "    model.add(layers.ReLU())\n",
    "    model.add(layers.BatchNormalization(scale=False))\n",
    "\n",
    "    model.add(layers.Reshape((8, 8, 1024)))\n",
    "    assert model.output_shape == (None, 8, 8, 1024) # Note: None is the batch size\n",
    "\n",
    "    model.add(layers.Conv2DTranspose(512, (5, 5), strides=(2, 2), padding='same', use_bias=False, kernel_initializer=initializer))\n",
    "    assert model.output_shape == (None, 16, 16, 512)\n",
    "    model.add(layers.ReLU())\n",
    "    model.add(layers.BatchNormalization(scale=False))\n",
    "\n",
    "    model.add(layers.Conv2DTranspose(256, (5, 5), strides=(2, 2), padding='same', use_bias=False, kernel_initializer=initializer))\n",
    "    assert model.output_shape == (None, 32, 32, 256)\n",
    "    model.add(layers.ReLU())\n",
    "    model.add(layers.BatchNormalization(scale=False))\n",
    "    \n",
    "    model.add(layers.Conv2DTranspose(128, (5, 5), strides=(2, 2), padding='same', use_bias=False, kernel_initializer=initializer))\n",
    "    assert model.output_shape == (None, 64, 64, 128)\n",
    "    model.add(layers.ReLU())\n",
    "    model.add(layers.BatchNormalization(scale=False))\n",
    "\n",
    "    model.add(layers.Conv2DTranspose(3, (5, 5), strides=(2, 2), padding='same', use_bias=False, activation='tanh', kernel_initializer=initializer))\n",
    "    assert model.output_shape == (None, 128, 128, 3)\n",
    "    model.add(layers.Activation('linear', dtype='float32'))\n",
    "    \n",
    "    model.summary()\n",
    "    return model"
   ]
  },
  {
   "cell_type": "code",
   "execution_count": 6,
   "metadata": {},
   "outputs": [
    {
     "name": "stdout",
     "output_type": "stream",
     "text": [
      "tf.Tensor(\n",
      "[[[0.5003731  0.4991927  0.49957824]\n",
      "  [0.49913168 0.5017824  0.49934053]\n",
      "  [0.5015106  0.49826622 0.5014286 ]\n",
      "  ...\n",
      "  [0.49551773 0.50056887 0.5024204 ]\n",
      "  [0.50209427 0.49841404 0.50129795]\n",
      "  [0.49696732 0.50193024 0.5023613 ]]\n",
      "\n",
      " [[0.5008426  0.49995932 0.49848175]\n",
      "  [0.49396515 0.49386597 0.5079346 ]\n",
      "  [0.50450516 0.50013745 0.5048752 ]\n",
      "  ...\n",
      "  [0.4974785  0.5042572  0.5094452 ]\n",
      "  [0.50523376 0.50375366 0.5003569 ]\n",
      "  [0.5055237  0.5009494  0.509552  ]]\n",
      "\n",
      " [[0.50268745 0.50127506 0.49974823]\n",
      "  [0.4978714  0.49783134 0.500437  ]\n",
      "  [0.5058937  0.5005517  0.50024724]\n",
      "  ...\n",
      "  [0.49152374 0.49316788 0.50268555]\n",
      "  [0.5048561  0.48809814 0.49798584]\n",
      "  [0.49417114 0.49757004 0.5017605 ]]\n",
      "\n",
      " ...\n",
      "\n",
      " [[0.5035572  0.4979725  0.4990139 ]\n",
      "  [0.48103333 0.5099869  0.50237656]\n",
      "  [0.5017662  0.5056915  0.49981725]\n",
      "  ...\n",
      "  [0.5057831  0.48923492 0.50655746]\n",
      "  [0.5070305  0.5145798  0.4908142 ]\n",
      "  [0.5233917  0.49806213 0.5073929 ]]\n",
      "\n",
      " [[0.49959707 0.50274277 0.501029  ]\n",
      "  [0.5054512  0.50484467 0.49913406]\n",
      "  [0.49997103 0.48431396 0.50183964]\n",
      "  ...\n",
      "  [0.4840393  0.49178314 0.49857998]\n",
      "  [0.5085602  0.47962952 0.5157471 ]\n",
      "  [0.49247742 0.49592972 0.50077915]]\n",
      "\n",
      " [[0.5004821  0.5003302  0.5023899 ]\n",
      "  [0.4932251  0.5032654  0.50023186]\n",
      "  [0.49927282 0.5024605  0.49988264]\n",
      "  ...\n",
      "  [0.51560974 0.51065826 0.4726715 ]\n",
      "  [0.49865246 0.51119995 0.49189758]\n",
      "  [0.5097656  0.5035019  0.4781952 ]]], shape=(64, 64, 3), dtype=float32)\n"
     ]
    },
    {
     "data": {
      "image/png": "[encoded data removed]",
      "text/plain": [
       "<Figure size 432x288 with 1 Axes>"
      ]
     },
     "metadata": {
      "needs_background": "light"
     },
     "output_type": "display_data"
    }
   ],
   "source": [
    "generator = make_generator_model()\n",
    "# generator = make_generator_model_128()\n",
    "\n",
    "\n",
    "noise = tf.random.normal([1, 100])\n",
    "generated_image = generator(noise, training=False)\n",
    "plt.imshow((generated_image[0] * .5 + .5))\n",
    "print(generated_image[0] * .5 + .5)\n"
   ]
  },
  {
   "cell_type": "code",
   "execution_count": 7,
   "metadata": {},
   "outputs": [],
   "source": [
    "def make_discriminator_model():\n",
    "    initializer = tf.keras.initializers.RandomNormal(mean=0., stddev=.02)\n",
    "    model = tf.keras.Sequential()\n",
    "    model.add(layers.GaussianNoise(0.2, input_shape = [64, 64, 3]))\n",
    "    model.add(layers.Conv2D(64, (5, 5), strides=(2, 2), padding='same', kernel_initializer=initializer, use_bias=False))\n",
    "    model.add(layers.LeakyReLU())\n",
    "    \n",
    "\n",
    "    model.add(layers.Conv2D(256, (5, 5), strides=(2, 2), padding='same', kernel_initializer=initializer, use_bias=False))\n",
    "    model.add(layers.LeakyReLU(alpha =  0.2))\n",
    "    model.add(layers.BatchNormalization( scale=False))\n",
    "    \n",
    "    model.add(layers.Conv2D(512, (5, 5), strides=(2, 2), padding='same', kernel_initializer=initializer, use_bias=False))\n",
    "    model.add(layers.LeakyReLU(alpha =  0.2))\n",
    "    model.add(layers.BatchNormalization(scale=False))\n",
    "    \n",
    "    model.add(layers.Conv2D(1024, (5, 5), strides=(2, 2), padding='same', kernel_initializer=initializer, use_bias=False))\n",
    "    model.add(layers.LeakyReLU(alpha =  0.2))\n",
    "    model.add(layers.BatchNormalization(scale=False))\n",
    "\n",
    "\n",
    "\n",
    "    model.add(layers.Flatten())\n",
    "    model.add(layers.Dense(1))\n",
    "    model.add(layers.Activation('sigmoid', dtype='float32'))\n",
    "#     model.add(layers.LeakyReLU(alpha =  0.2, dtype='float32'))\n",
    "    return model\n",
    "\n",
    "def make_discriminator_model_128():\n",
    "    initializer = tf.keras.initializers.RandomNormal(mean=0., stddev=.02)\n",
    "    model = tf.keras.Sequential()\n",
    "#     model.add(layers.GaussianNoise(0.2, input_shape = [256, 256, 3]))\n",
    "    model.add(layers.Conv2D(32, (5, 5), strides=(2, 2), padding='same', input_shape=[128, 128, 3], kernel_initializer=initializer, use_bias=False))\n",
    "    model.add(layers.LeakyReLU())\n",
    "    \n",
    "\n",
    "    model.add(layers.Conv2D(64, (5, 5), strides=(2, 2), padding='same', kernel_initializer=initializer, use_bias=False))\n",
    "    model.add(layers.LeakyReLU(alpha =  0.2))\n",
    "    model.add(layers.BatchNormalization( scale=False))\n",
    "    \n",
    "    model.add(layers.Conv2D(128, (5, 5), strides=(2, 2), padding='same', kernel_initializer=initializer, use_bias=False))\n",
    "    model.add(layers.LeakyReLU(alpha =  0.2))\n",
    "    model.add(layers.BatchNormalization(scale=False))\n",
    "    \n",
    "    model.add(layers.Conv2D(512, (5, 5), strides=(2, 2), padding='same', kernel_initializer=initializer, use_bias=False))\n",
    "    model.add(layers.LeakyReLU(alpha =  0.2))\n",
    "    model.add(layers.BatchNormalization(scale=False))\n",
    "\n",
    "\n",
    "\n",
    "    model.add(layers.Flatten())\n",
    "    model.add(layers.Dense(1))\n",
    "    model.add(layers.Activation('sigmoid', dtype='float32'))\n",
    "#     model.add(layers.LeakyReLU(alpha =  0.2, dtype='float32'))\n",
    "    model.summary()\n",
    "    return model"
   ]
  },
  {
   "cell_type": "code",
   "execution_count": 8,
   "metadata": {
    "scrolled": false
   },
   "outputs": [
    {
     "name": "stdout",
     "output_type": "stream",
     "text": [
      "tf.Tensor([[0.50289536]], shape=(1, 1), dtype=float32)\n"
     ]
    }
   ],
   "source": [
    "discriminator = make_discriminator_model()\n",
    "# discriminator = make_discriminator_model_128()\n",
    "decision = discriminator(generated_image)\n",
    "print (decision)\n"
   ]
  },
  {
   "cell_type": "code",
   "execution_count": 9,
   "metadata": {},
   "outputs": [],
   "source": [
    "cross_entropy = tf.keras.losses.BinaryCrossentropy(from_logits=False) #from_logits true if not using (0,1)\n",
    "\n",
    "# TB Stuff\n",
    "train_loss_G = tf.keras.metrics.Mean('train_loss_G', dtype=tf.float32)\n",
    "train_loss_D = tf.keras.metrics.Mean('train_loss_G', dtype=tf.float32)\n",
    "\n",
    "current_time = datetime.datetime.now().strftime(\"%Y%m%d-%H%M%S\")\n",
    "train_log_dir_D = 'logs/' + current_time+ 'train/D_loss'\n",
    "train_log_dir_G = 'logs/' + current_time+ 'train/G_loss'\n",
    "train_log_dir_PIC = 'logs/' + current_time+ 'train/pic'\n",
    "\n",
    "train_summary_writer_D = tf.summary.create_file_writer(train_log_dir_D)\n",
    "train_summary_writer_G = tf.summary.create_file_writer(train_log_dir_G)\n",
    "train_summary_writer_PIC = tf.summary.create_file_writer(train_log_dir_PIC)\n",
    "\n",
    "\n"
   ]
  },
  {
   "cell_type": "code",
   "execution_count": 10,
   "metadata": {},
   "outputs": [],
   "source": [
    "def discriminator_loss(real_output, fake_output):\n",
    "    real_loss = cross_entropy(tf.ones_like(real_output), real_output)\n",
    "    fake_loss = cross_entropy(tf.zeros_like(fake_output), fake_output)\n",
    "    total_loss = real_loss + fake_loss\n",
    "    return total_loss"
   ]
  },
  {
   "cell_type": "code",
   "execution_count": 11,
   "metadata": {},
   "outputs": [],
   "source": [
    "def generator_loss(fake_output):\n",
    "    return cross_entropy(tf.ones_like(fake_output), fake_output)\n"
   ]
  },
  {
   "cell_type": "code",
   "execution_count": 12,
   "metadata": {},
   "outputs": [],
   "source": [
    "generator_optimizer = tf.keras.optimizers.Adam(learning_rate = .0002, beta_1=0.5)\n",
    "discriminator_optimizer = tf.keras.optimizers.Adam(learning_rate = .0002, beta_1=0.5)\n"
   ]
  },
  {
   "cell_type": "code",
   "execution_count": 13,
   "metadata": {},
   "outputs": [],
   "source": [
    "checkpoint_dir = './training_checkpoints'\n",
    "checkpoint_prefix = os.path.join(checkpoint_dir, \"ckpt\")\n",
    "checkpoint = tf.train.Checkpoint(generator_optimizer=generator_optimizer,\n",
    "                                 discriminator_optimizer=discriminator_optimizer,\n",
    "                                 generator=generator,\n",
    "                                 discriminator=discriminator)\n"
   ]
  },
  {
   "cell_type": "code",
   "execution_count": 14,
   "metadata": {},
   "outputs": [],
   "source": [
    "EPOCHS = 400\n",
    "noise_dim = 100\n",
    "num_examples_to_generate = 4\n",
    "\n",
    "# We will reuse this seed overtime (so it's easier)\n",
    "# to visualize progress in the animated GIF)\n",
    "seed = tf.random.normal([num_examples_to_generate, noise_dim])\n"
   ]
  },
  {
   "cell_type": "code",
   "execution_count": null,
   "metadata": {},
   "outputs": [],
   "source": []
  },
  {
   "cell_type": "code",
   "execution_count": 15,
   "metadata": {},
   "outputs": [],
   "source": [
    "@tf.function\n",
    "def train_step(images):\n",
    "    noise = tf.random.normal([BATCH_SIZE, noise_dim])\n",
    "    train_disc = True\n",
    "\n",
    "    with tf.GradientTape() as gen_tape, tf.GradientTape() as disc_tape:\n",
    "        generated_images = generator(noise, training=True)\n",
    "\n",
    "        real_output = discriminator(images, training=True)\n",
    "        \n",
    "        fake_output = discriminator(generated_images, training=True)\n",
    "\n",
    "        gen_loss = generator_loss(fake_output)\n",
    "        \n",
    "        disc_loss = discriminator_loss(real_output, fake_output)\n",
    "        \n",
    "#         TB Stuff\n",
    "        train_loss_G(gen_loss)\n",
    "        train_loss_D(disc_loss)\n",
    "        if disc_loss < .3:\n",
    "            train_disc = False\n",
    "        \n",
    "    gradients_of_generator = gen_tape.gradient(gen_loss, generator.trainable_variables)\n",
    "    generator_optimizer.apply_gradients(zip(gradients_of_generator, generator.trainable_variables))\n",
    "    \n",
    "    if train_disc:\n",
    "        gradients_of_discriminator = disc_tape.gradient(disc_loss, discriminator.trainable_variables)\n",
    "        discriminator_optimizer.apply_gradients(zip(gradients_of_discriminator, discriminator.trainable_variables))\n"
   ]
  },
  {
   "cell_type": "code",
   "execution_count": 16,
   "metadata": {},
   "outputs": [],
   "source": [
    "def train(dataset, epochs):\n",
    "    for epoch in range(epochs):\n",
    "        start = time.time()\n",
    "\n",
    "        for image_batch in dataset:\n",
    "            train_step(image_batch)\n",
    "        \n",
    "        \n",
    "        results = generate_and_save_images(generator, epoch, seed)\n",
    "        \n",
    "        with train_summary_writer_D.as_default():\n",
    "            tf.summary.scalar('loss', train_loss_D.result(), step=epoch)\n",
    "        with train_summary_writer_G.as_default():\n",
    "            tf.summary.scalar('loss', train_loss_G.result(), step=epoch)\n",
    "        with train_summary_writer_PIC.as_default():\n",
    "            name = \"Epoch:\" + str(epoch) + \" Images\"\n",
    "            tf.summary.image(name, results, step=epoch, max_outputs = 4)\n",
    "\n",
    "        \n",
    "        train_loss_G.reset_states()\n",
    "        train_loss_D.reset_states()\n",
    "\n",
    "        # Produce images for the GIF as we go\n",
    "        \n",
    "#         display.clear_output(wait=True)\n",
    "        \n",
    "        \n",
    "\n",
    "#         Save the model every 10 epochs\n",
    "        if (epoch + 1) % 10 == 0:\n",
    "            checkpoint.save(file_prefix = checkpoint_prefix)\n",
    "\n",
    "        print ('Time for epoch {} is {} sec'.format(epoch + 1, time.time()-start))\n",
    "\n",
    "\n"
   ]
  },
  {
   "cell_type": "code",
   "execution_count": 17,
   "metadata": {},
   "outputs": [],
   "source": [
    "def generate_and_save_images(model, epoch, test_input):\n",
    "  # Notice `training` is set to False.\n",
    "  # This is so all layers run in inference mode (batchnorm).\n",
    "    predictions = model(test_input, training=False)\n",
    "    predictions = predictions* 0.5 + 0.5 \n",
    "    return predictions\n",
    "\n"
   ]
  },
  {
   "cell_type": "code",
   "execution_count": null,
   "metadata": {
    "scrolled": true
   },
   "outputs": [],
   "source": [
    "\n"
   ]
  },
  {
   "cell_type": "code",
   "execution_count": 18,
   "metadata": {},
   "outputs": [],
   "source": [
    "# checkpoint.restore(tf.train.latest_checkpoint(checkpoint_dir))\n"
   ]
  },
  {
   "cell_type": "code",
   "execution_count": null,
   "metadata": {
    "scrolled": true
   },
   "outputs": [],
   "source": [
    "train(data_gen, EPOCHS)"
   ]
  }
 ],
 "metadata": {
  "kernelspec": {
   "display_name": "Python 3",
   "language": "python",
   "name": "python3"
  },
  "language_info": {
   "codemirror_mode": {
    "name": "ipython",
    "version": 3
   },
   "file_extension": ".py",
   "mimetype": "text/x-python",
   "name": "python",
   "nbconvert_exporter": "python",
   "pygments_lexer": "ipython3",
   "version": "3.7.7"
  }
 },
 "nbformat": 4,
 "nbformat_minor": 4
}
