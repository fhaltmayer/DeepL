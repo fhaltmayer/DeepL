{
 "cells": [
  {
   "cell_type": "code",
   "execution_count": 1,
   "metadata": {},
   "outputs": [
    {
     "name": "stdout",
     "output_type": "stream",
     "text": [
      "INFO:tensorflow:Mixed precision compatibility check (mixed_float16): OK\n",
      "Your GPU will likely run quickly with dtype policy mixed_float16 as it has compute capability of at least 7.0. Your GPU: GeForce RTX 2070 SUPER, compute capability 7.5\n"
     ]
    }
   ],
   "source": [
    "import tensorflow as tf\n",
    "config = tf.compat.v1.ConfigProto()\n",
    "config.gpu_options.allow_growth = True\n",
    "session = tf.compat.v1.Session(config=config)\n",
    "\n",
    "#imports\n",
    "\n",
    "from tensorflow.keras.mixed_precision import experimental as mixed_precision\n",
    "policy = mixed_precision.Policy('mixed_float16')\n",
    "mixed_precision.set_policy(policy)\n",
    "\n",
    "import numpy as np\n",
    "import matplotlib.pyplot as plt\n",
    "import tensorflow as tf\n",
    "import cv2\n",
    "import glob\n",
    "import imageio\n",
    "import matplotlib.pyplot as plt\n",
    "import numpy as np\n",
    "import os\n",
    "import PIL\n",
    "import time\n",
    "from tensorflow.keras import layers\n",
    "from tensorflow.keras import activations\n",
    "from IPython import display\n",
    "from tensorflow.keras.initializers import RandomNormal\n",
    "from tensorflow.keras import initializers\n",
    "import datetime\n",
    "\n",
    "\n",
    "AUTOTUNE = tf.data.experimental.AUTOTUNE\n",
    "IMAGE_HEIGHT = 64\n",
    "IMAGE_WIDTH = 64\n",
    "IMAGE_DEPTH = 3\n",
    "BATCH_SIZE = 128\n",
    "NUM_SAMPLES = 202599"
   ]
  },
  {
   "cell_type": "code",
   "execution_count": 2,
   "metadata": {},
   "outputs": [],
   "source": [
    "def decode_img(img):\n",
    "    img = tf.image.decode_jpeg(img, channels=IMAGE_DEPTH)\n",
    "    img = tf.image.convert_image_dtype(img, tf.float32)\n",
    "    img = (img - .5) / .5\n",
    "    return tf.image.resize(img, [IMAGE_HEIGHT, IMAGE_WIDTH])\n",
    "\n",
    "def process_path(file_path):\n",
    "    img = tf.io.read_file(file_path)\n",
    "    img = decode_img(img)\n",
    "    return img\n",
    "\n",
    "def prepare_for_training(ds, cache=True, shuffle_buffer_size=1000):\n",
    "    if cache:\n",
    "        if isinstance(cache, str):\n",
    "            ds = ds.cache(cache)\n",
    "\n",
    "    else:\n",
    "        ds = ds.cache()\n",
    "\n",
    "    ds = ds.shuffle(buffer_size=shuffle_buffer_size)\n",
    "\n",
    "    ds = ds.batch(BATCH_SIZE)\n",
    "\n",
    "    ds = ds.prefetch(buffer_size=AUTOTUNE)\n",
    "\n",
    "    return ds\n",
    "\n",
    "def data_generator():\n",
    "    data_dir = 'data/img_align_celeba/*.jpg'\n",
    "    list_ds = tf.data.Dataset.list_files(data_dir)\n",
    "    processed_images = list_ds.map(process_path, num_parallel_calls=AUTOTUNE)\n",
    "    return prepare_for_training(processed_images)\n",
    "data_gen = data_generator()"
   ]
  },
  {
   "cell_type": "code",
   "execution_count": 3,
   "metadata": {},
   "outputs": [],
   "source": [
    "def make_generator_model():\n",
    "    initializer = tf.keras.initializers.RandomNormal(mean=0., stddev=.02)\n",
    "    model = tf.keras.Sequential()\n",
    "    model.add(layers.Dense(4*4*1024, use_bias=False, input_shape=(100,), kernel_initializer=initializer))\n",
    "    model.add(layers.ReLU())\n",
    "    model.add(layers.BatchNormalization(scale=False))\n",
    "\n",
    "    model.add(layers.Reshape((4, 4, 1024)))\n",
    "    assert model.output_shape == (None, 4, 4, 1024) # Note: None is the batch size\n",
    "\n",
    "    model.add(layers.Conv2DTranspose(512, (5, 5), strides=(2, 2), padding='same', use_bias=False, kernel_initializer=initializer))\n",
    "    assert model.output_shape == (None, 8, 8, 512)\n",
    "    model.add(layers.ReLU())\n",
    "    model.add(layers.BatchNormalization(scale=False))\n",
    "\n",
    "    model.add(layers.Conv2DTranspose(256, (5, 5), strides=(2, 2), padding='same', use_bias=False, kernel_initializer=initializer))\n",
    "    assert model.output_shape == (None, 16, 16, 256)\n",
    "    model.add(layers.ReLU())\n",
    "    model.add(layers.BatchNormalization(scale=False))\n",
    "    \n",
    "    model.add(layers.Conv2DTranspose(128, (5, 5), strides=(2, 2), padding='same', use_bias=False, kernel_initializer=initializer))\n",
    "    assert model.output_shape == (None, 32, 32, 128)\n",
    "    model.add(layers.ReLU())\n",
    "    model.add(layers.BatchNormalization(scale=False))\n",
    "\n",
    "    model.add(layers.Conv2DTranspose(3, (5, 5), strides=(2, 2), padding='same', use_bias=False, activation='tanh', kernel_initializer=initializer))\n",
    "    assert model.output_shape == (None, 64, 64, 3)\n",
    "    model.add(layers.Activation('linear', dtype='float32'))\n",
    "    \n",
    "\n",
    "    return model"
   ]
  },
  {
   "cell_type": "code",
   "execution_count": 4,
   "metadata": {
    "scrolled": true
   },
   "outputs": [
    {
     "data": {
      "text/plain": [
       "<matplotlib.image.AxesImage at 0x2721f2a2f08>"
      ]
     },
     "execution_count": 4,
     "metadata": {},
     "output_type": "execute_result"
    },
    {
     "data": {
      "image/png": "[encoded data removed]",
      "text/plain": [
       "<Figure size 432x288 with 1 Axes>"
      ]
     },
     "metadata": {
      "needs_background": "light"
     },
     "output_type": "display_data"
    }
   ],
   "source": [
    "generator = make_generator_model()\n",
    "noise = tf.random.normal([1, 100])\n",
    "generated_image = generator(noise, training=False)\n",
    "plt.imshow((generated_image[0] * .5 + .5))"
   ]
  },
  {
   "cell_type": "code",
   "execution_count": 5,
   "metadata": {},
   "outputs": [],
   "source": [
    "def make_discriminator_model():\n",
    "    initializer = tf.keras.initializers.RandomNormal(mean=0., stddev=.02)\n",
    "    model = tf.keras.Sequential()\n",
    "    model.add(layers.GaussianNoise(0.2, input_shape = [64, 64, 3]))\n",
    "    model.add(layers.Conv2D(64, (5, 5), strides=(2, 2), padding='same', kernel_initializer=initializer, use_bias=False))\n",
    "    model.add(layers.LeakyReLU())\n",
    "    \n",
    "\n",
    "    model.add(layers.Conv2D(256, (5, 5), strides=(2, 2), padding='same', kernel_initializer=initializer, use_bias=False))\n",
    "    model.add(layers.LeakyReLU(alpha =  0.2))\n",
    "    model.add(layers.BatchNormalization( scale=False))\n",
    "    \n",
    "    model.add(layers.Conv2D(512, (5, 5), strides=(2, 2), padding='same', kernel_initializer=initializer, use_bias=False))\n",
    "    model.add(layers.LeakyReLU(alpha =  0.2))\n",
    "    model.add(layers.BatchNormalization(scale=False))\n",
    "    \n",
    "    model.add(layers.Conv2D(1024, (5, 5), strides=(2, 2), padding='same', kernel_initializer=initializer, use_bias=False))\n",
    "    model.add(layers.LeakyReLU(alpha =  0.2))\n",
    "    model.add(layers.BatchNormalization(scale=False))\n",
    "\n",
    "\n",
    "\n",
    "    model.add(layers.Flatten())\n",
    "    model.add(layers.Dense(1))\n",
    "    model.add(layers.Activation('sigmoid', dtype='float32'))\n",
    "    \n",
    "    return model\n"
   ]
  },
  {
   "cell_type": "code",
   "execution_count": 6,
   "metadata": {
    "scrolled": false
   },
   "outputs": [
    {
     "name": "stdout",
     "output_type": "stream",
     "text": [
      "tf.Tensor([[0.501894]], shape=(1, 1), dtype=float32)\n"
     ]
    }
   ],
   "source": [
    "discriminator = make_discriminator_model()\n",
    "decision = discriminator(generated_image)\n",
    "print (decision)"
   ]
  },
  {
   "cell_type": "code",
   "execution_count": 7,
   "metadata": {},
   "outputs": [],
   "source": [
    "# TB Stuff\n",
    "train_loss_G = tf.keras.metrics.Mean('train_loss_G', dtype=tf.float32)\n",
    "train_loss_D = tf.keras.metrics.Mean('train_loss_G', dtype=tf.float32)\n",
    "\n",
    "current_time = datetime.datetime.now().strftime(\"%Y%m%d-%H%M%S\")\n",
    "train_log_dir_D = 'logs/' + current_time+ 'train/D_loss'\n",
    "train_log_dir_G = 'logs/' + current_time+ 'train/G_loss'\n",
    "train_log_dir_PIC = 'logs/' + current_time+ 'train/pic'\n",
    "\n",
    "train_summary_writer_D = tf.summary.create_file_writer(train_log_dir_D)\n",
    "train_summary_writer_G = tf.summary.create_file_writer(train_log_dir_G)\n",
    "train_summary_writer_PIC = tf.summary.create_file_writer(train_log_dir_PIC)\n",
    "\n",
    "\n"
   ]
  },
  {
   "cell_type": "code",
   "execution_count": 8,
   "metadata": {},
   "outputs": [],
   "source": [
    "cross_entropy = tf.keras.losses.BinaryCrossentropy(from_logits=False) #from_logits true if not using (0,1)\n",
    "generator_optimizer = tf.keras.optimizers.Adam(learning_rate = .0002, beta_1=0.5)\n",
    "discriminator_optimizer = tf.keras.optimizers.Adam(learning_rate = .0002, beta_1=0.5)\n",
    "\n",
    "def discriminator_loss(real_output, fake_output):\n",
    "    real_loss = cross_entropy(tf.ones_like(real_output), real_output)\n",
    "    fake_loss = cross_entropy(tf.zeros_like(fake_output), fake_output)\n",
    "    total_loss = real_loss + fake_loss\n",
    "    return total_loss\n",
    "\n",
    "def generator_loss(fake_output):\n",
    "    return cross_entropy(tf.ones_like(fake_output), fake_output)\n"
   ]
  },
  {
   "cell_type": "code",
   "execution_count": 9,
   "metadata": {},
   "outputs": [],
   "source": [
    "checkpoint_dir = './training_checkpoints'\n",
    "checkpoint_prefix = os.path.join(checkpoint_dir, \"ckpt\")\n",
    "checkpoint = tf.train.Checkpoint(generator_optimizer=generator_optimizer,\n",
    "                                 discriminator_optimizer=discriminator_optimizer,\n",
    "                                 generator=generator,\n",
    "                                 discriminator=discriminator)"
   ]
  },
  {
   "cell_type": "code",
   "execution_count": 10,
   "metadata": {},
   "outputs": [],
   "source": [
    "EPOCHS = 400\n",
    "noise_dim = 100\n",
    "num_examples_to_generate = 4\n",
    "seed = tf.random.normal([num_examples_to_generate, noise_dim])"
   ]
  },
  {
   "cell_type": "code",
   "execution_count": 11,
   "metadata": {},
   "outputs": [],
   "source": [
    "@tf.function\n",
    "def train_step(images):\n",
    "    noise = tf.random.normal([BATCH_SIZE, noise_dim])\n",
    "\n",
    "    with tf.GradientTape() as gen_tape, tf.GradientTape() as disc_tape:\n",
    "        \n",
    "        generated_images = generator(noise, training=True)\n",
    "\n",
    "        real_output = discriminator(images, training=True)\n",
    "        \n",
    "        fake_output = discriminator(generated_images, training=True)\n",
    "\n",
    "        gen_loss = generator_loss(fake_output)\n",
    "        \n",
    "        disc_loss = discriminator_loss(real_output, fake_output)\n",
    "        \n",
    "#         TB Stuff\n",
    "        train_loss_G(gen_loss)\n",
    "        train_loss_D(disc_loss)\n",
    "\n",
    "        \n",
    "    gradients_of_generator = gen_tape.gradient(gen_loss, generator.trainable_variables)\n",
    "    generator_optimizer.apply_gradients(zip(gradients_of_generator, generator.trainable_variables))\n",
    "    \n",
    "    gradients_of_discriminator = disc_tape.gradient(disc_loss, discriminator.trainable_variables)\n",
    "    discriminator_optimizer.apply_gradients(zip(gradients_of_discriminator, discriminator.trainable_variables))\n"
   ]
  },
  {
   "cell_type": "code",
   "execution_count": 12,
   "metadata": {},
   "outputs": [],
   "source": [
    "def train(dataset, epochs):\n",
    "    for epoch in range(epochs):\n",
    "        start = time.time()\n",
    "\n",
    "        for image_batch in dataset:\n",
    "            train_step(image_batch)\n",
    "        \n",
    "        results = generate_and_save_images(generator, epoch, seed)\n",
    "        \n",
    "        with train_summary_writer_D.as_default():\n",
    "            tf.summary.scalar('loss', train_loss_D.result(), step=epoch)\n",
    "        with train_summary_writer_G.as_default():\n",
    "            tf.summary.scalar('loss', train_loss_G.result(), step=epoch)\n",
    "        with train_summary_writer_PIC.as_default():\n",
    "            name = \"Epoch:\" + str(epoch) + \" Images\"\n",
    "            tf.summary.image(name, results, step=epoch, max_outputs = 4)\n",
    "        \n",
    "        train_loss_G.reset_states()\n",
    "        train_loss_D.reset_states()\n",
    "\n",
    "        if (epoch + 1) % 10 == 0:\n",
    "            checkpoint.save(file_prefix = checkpoint_prefix)\n",
    "\n",
    "        print ('Time for epoch {} is {} sec'.format(epoch + 1, time.time()-start))"
   ]
  },
  {
   "cell_type": "code",
   "execution_count": 13,
   "metadata": {},
   "outputs": [],
   "source": [
    "def generate_and_save_images(model, epoch, test_input):\n",
    "    predictions = model(test_input, training=False)\n",
    "    predictions = predictions* 0.5 + 0.5 \n",
    "    return predictions"
   ]
  },
  {
   "cell_type": "code",
   "execution_count": 14,
   "metadata": {},
   "outputs": [],
   "source": [
    "# checkpoint.restore(tf.train.latest_checkpoint(checkpoint_dir))"
   ]
  },
  {
   "cell_type": "code",
   "execution_count": null,
   "metadata": {
    "scrolled": true
   },
   "outputs": [
    {
     "name": "stdout",
     "output_type": "stream",
     "text": [
      "Time for epoch 1 is 194.35479474067688 sec\n",
      "Time for epoch 2 is 187.5634527206421 sec\n",
      "Time for epoch 3 is 190.93921566009521 sec\n",
      "Time for epoch 4 is 195.0472538471222 sec\n",
      "Time for epoch 5 is 189.13187789916992 sec\n",
      "Time for epoch 6 is 192.32625699043274 sec\n",
      "Time for epoch 7 is 188.6094048023224 sec\n",
      "Time for epoch 8 is 190.18484354019165 sec\n",
      "Time for epoch 9 is 191.83533453941345 sec\n",
      "Time for epoch 10 is 194.46680736541748 sec\n",
      "Time for epoch 11 is 186.4424343109131 sec\n",
      "Time for epoch 12 is 190.0697319507599 sec\n",
      "Time for epoch 13 is 306.39256167411804 sec\n",
      "Time for epoch 14 is 394.10289239883423 sec\n"
     ]
    }
   ],
   "source": [
    "train(data_gen, EPOCHS)"
   ]
  }
 ],
 "metadata": {
  "kernelspec": {
   "display_name": "Python 3",
   "language": "python",
   "name": "python3"
  },
  "language_info": {
   "codemirror_mode": {
    "name": "ipython",
    "version": 3
   },
   "file_extension": ".py",
   "mimetype": "text/x-python",
   "name": "python",
   "nbconvert_exporter": "python",
   "pygments_lexer": "ipython3",
   "version": "3.7.7"
  }
 },
 "nbformat": 4,
 "nbformat_minor": 4
}
